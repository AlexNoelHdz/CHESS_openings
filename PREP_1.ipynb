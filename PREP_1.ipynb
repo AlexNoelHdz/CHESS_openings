{
 "cells": [
  {
   "cell_type": "code",
   "execution_count": null,
   "metadata": {},
   "outputs": [],
   "source": [
    "from sklearn.preprocessing import LabelEncoder\n",
    "# Codificando todas las variables categóricas consideradas en valores numéricos\n",
    "le1 = LabelEncoder() #rated\n",
    "le2 = LabelEncoder() #winner\n",
    "le3 = LabelEncoder() #time_increment\n",
    "le4 = LabelEncoder() #opening_code\n",
    "le5 = LabelEncoder() #opening_fullname\n",
    "le6 = LabelEncoder() #opening_shortname\n",
    "le7 = LabelEncoder() #opening_variation"
   ]
  }
 ],
 "metadata": {
  "language_info": {
   "name": "python"
  }
 },
 "nbformat": 4,
 "nbformat_minor": 2
}
