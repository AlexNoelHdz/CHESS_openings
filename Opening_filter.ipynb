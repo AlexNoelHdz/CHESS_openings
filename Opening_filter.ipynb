{
 "cells": [
  {
   "cell_type": "code",
   "execution_count": 47,
   "metadata": {},
   "outputs": [
    {
     "name": "stdout",
     "output_type": "stream",
     "text": [
      "<class 'pandas.core.frame.DataFrame'>\n",
      "RangeIndex: 20058 entries, 0 to 20057\n",
      "Data columns (total 8 columns):\n",
      " #   Column             Non-Null Count  Dtype \n",
      "---  ------             --------------  ----- \n",
      " 0   game_id            20058 non-null  int64 \n",
      " 1   moves              20058 non-null  object\n",
      " 2   opening_code       20058 non-null  object\n",
      " 3   opening_moves      20058 non-null  int64 \n",
      " 4   opening_fullname   20058 non-null  object\n",
      " 5   opening_shortname  20058 non-null  object\n",
      " 6   opening_variation  20058 non-null  object\n",
      " 7   moves_fen          20058 non-null  object\n",
      "dtypes: int64(2), object(6)\n",
      "memory usage: 1.2+ MB\n"
     ]
    }
   ],
   "source": [
    "import pandas as pd\n",
    "org_data_path = \"../CHESS/data/df_2_just_moves.csv\"\n",
    "df_2 = pd.read_csv(org_data_path)\n",
    "df_2.info()"
   ]
  },
  {
   "cell_type": "code",
   "execution_count": 48,
   "metadata": {},
   "outputs": [],
   "source": [
    "from extract_features import get_fen_from_moves\n",
    "\n",
    "def create_fen_columns(df_moves):\n",
    "    '''\n",
    "    Se añaden columnas para cada movimiento de apertura (de 1 a 28 máximo) en formato fen al df_moves proporcionado\n",
    "    '''\n",
    "    max_opening_moves = 28  # Número máximo de movimientos de apertura\n",
    "\n",
    "    # Crear las columnas para cada movimiento de apertura\n",
    "    for move_num in range(1, max_opening_moves + 1):\n",
    "        # Rellenar con None donde no hay movimientos\n",
    "        df_moves[f'0w_{move_num}'] = None\n",
    "        df_moves[f'0w_{move_num}_fen'] = None\n",
    "        df_moves[f'1b_{move_num}'] = None\n",
    "        df_moves[f'1b_{move_num}_fen'] = None\n",
    "\n",
    "    for index, row in df_moves.iterrows():\n",
    "        moves = row['moves'].split()\n",
    "        opening_moves = int(row['opening_moves'])\n",
    "        for move_num in range(1, min(opening_moves + 1, max_opening_moves + 1)):\n",
    "            san_white = moves[:move_num*2-1]\n",
    "            san_black = moves[:move_num*2]\n",
    "            fen_white = get_fen_from_moves(' '.join(san_white))\n",
    "            fen_black = get_fen_from_moves(' '.join(san_black))\n",
    "            df_moves.at[index, f'0w_{move_num}'] = san_white[-1]\n",
    "            df_moves.at[index, f'0w_{move_num}_fen'] = fen_white\n",
    "            df_moves.at[index, f'1b_{move_num}'] = san_black[-1]\n",
    "            df_moves.at[index, f'1b_{move_num}_fen'] = fen_black"
   ]
  },
  {
   "cell_type": "code",
   "execution_count": 49,
   "metadata": {},
   "outputs": [
    {
     "name": "stdout",
     "output_type": "stream",
     "text": [
      "['e4', 'Nf6', 'e5', 'Nd5', 'c4', 'Nb6', 'd4', 'd6', 'f4', 'dxe5', 'fxe5', 'Nc6', 'Be3', 'e6', 'Nf3', 'Bb4+', 'Nc3', 'O-O', 'Be2', 'Na5', 'Nd2', 'f5', 'O-O', 'Bd7', 'a3', 'Bxc3', 'bxc3', 'Bc6', 'Qb1', 'a6', 'Qb4', 'Bxg2', 'Qxa5', 'Bxf1', 'Rxf1', 'Nd7', 'c5', 'b6', 'cxb6', 'Nxb6', 'Nc4', 'Nd5', 'Bf3', 'Nxe3', 'Nxe3', 'Ra7', 'Qc5', 'Qb8', 'Nc4', 'a5', 'Bc6', 'Kf7', 'Bd7', 'Rd8', 'Qc6', 'g6', 'Qxe6+', 'Kg7', 'Qf6+', 'Kh6', 'Ne3', 'Qb6', 'Nxf5+']\n",
      "e4 Nf6 e5 Nd5 c4 Nb6 d4 d6 f4 dxe5 fxe5\n",
      "e4 Nf6 e5 Nd5 c4 Nb6 d4 d6 f4 dxe5 fxe5 Nc6\n",
      "fxe5\n",
      "Nc6\n"
     ]
    }
   ],
   "source": [
    "sample_moves = \"e4 Nf6 e5 Nd5 c4 Nb6 d4 d6 f4 dxe5 fxe5 Nc6 Be3 e6 Nf3 Bb4+ Nc3 O-O Be2 Na5 Nd2 f5 O-O Bd7 a3 Bxc3 bxc3 Bc6 Qb1 a6 Qb4 Bxg2 Qxa5 Bxf1 Rxf1 Nd7 c5 b6 cxb6 Nxb6 Nc4 Nd5 Bf3 Nxe3 Nxe3 Ra7 Qc5 Qb8 Nc4 a5 Bc6 Kf7 Bd7 Rd8 Qc6 g6 Qxe6+ Kg7 Qf6+ Kh6 Ne3 Qb6 Nxf5+\".split()\n",
    "print(sample_moves)\n",
    "move_num = 6\n",
    "san_white = sample_moves[:move_num*2-1]\n",
    "san_black = sample_moves[:move_num*2]\n",
    "print(' '.join(san_white))\n",
    "print(' '.join(san_black))\n",
    "print(san_white[-1])\n",
    "print(san_black[-1])"
   ]
  },
  {
   "cell_type": "code",
   "execution_count": 50,
   "metadata": {},
   "outputs": [
    {
     "name": "stderr",
     "output_type": "stream",
     "text": [
      "C:\\Users\\anhernan\\AppData\\Local\\Temp\\ipykernel_15012\\4191111566.py:14: PerformanceWarning: DataFrame is highly fragmented.  This is usually the result of calling `frame.insert` many times, which has poor performance.  Consider joining all columns at once using pd.concat(axis=1) instead. To get a de-fragmented frame, use `newframe = frame.copy()`\n",
      "  df_moves[f'1b_{move_num}'] = None\n",
      "C:\\Users\\anhernan\\AppData\\Local\\Temp\\ipykernel_15012\\4191111566.py:15: PerformanceWarning: DataFrame is highly fragmented.  This is usually the result of calling `frame.insert` many times, which has poor performance.  Consider joining all columns at once using pd.concat(axis=1) instead. To get a de-fragmented frame, use `newframe = frame.copy()`\n",
      "  df_moves[f'1b_{move_num}_fen'] = None\n",
      "C:\\Users\\anhernan\\AppData\\Local\\Temp\\ipykernel_15012\\4191111566.py:12: PerformanceWarning: DataFrame is highly fragmented.  This is usually the result of calling `frame.insert` many times, which has poor performance.  Consider joining all columns at once using pd.concat(axis=1) instead. To get a de-fragmented frame, use `newframe = frame.copy()`\n",
      "  df_moves[f'0w_{move_num}'] = None\n",
      "C:\\Users\\anhernan\\AppData\\Local\\Temp\\ipykernel_15012\\4191111566.py:13: PerformanceWarning: DataFrame is highly fragmented.  This is usually the result of calling `frame.insert` many times, which has poor performance.  Consider joining all columns at once using pd.concat(axis=1) instead. To get a de-fragmented frame, use `newframe = frame.copy()`\n",
      "  df_moves[f'0w_{move_num}_fen'] = None\n",
      "C:\\Users\\anhernan\\AppData\\Local\\Temp\\ipykernel_15012\\4191111566.py:14: PerformanceWarning: DataFrame is highly fragmented.  This is usually the result of calling `frame.insert` many times, which has poor performance.  Consider joining all columns at once using pd.concat(axis=1) instead. To get a de-fragmented frame, use `newframe = frame.copy()`\n",
      "  df_moves[f'1b_{move_num}'] = None\n",
      "C:\\Users\\anhernan\\AppData\\Local\\Temp\\ipykernel_15012\\4191111566.py:15: PerformanceWarning: DataFrame is highly fragmented.  This is usually the result of calling `frame.insert` many times, which has poor performance.  Consider joining all columns at once using pd.concat(axis=1) instead. To get a de-fragmented frame, use `newframe = frame.copy()`\n",
      "  df_moves[f'1b_{move_num}_fen'] = None\n",
      "C:\\Users\\anhernan\\AppData\\Local\\Temp\\ipykernel_15012\\4191111566.py:12: PerformanceWarning: DataFrame is highly fragmented.  This is usually the result of calling `frame.insert` many times, which has poor performance.  Consider joining all columns at once using pd.concat(axis=1) instead. To get a de-fragmented frame, use `newframe = frame.copy()`\n",
      "  df_moves[f'0w_{move_num}'] = None\n",
      "C:\\Users\\anhernan\\AppData\\Local\\Temp\\ipykernel_15012\\4191111566.py:13: PerformanceWarning: DataFrame is highly fragmented.  This is usually the result of calling `frame.insert` many times, which has poor performance.  Consider joining all columns at once using pd.concat(axis=1) instead. To get a de-fragmented frame, use `newframe = frame.copy()`\n",
      "  df_moves[f'0w_{move_num}_fen'] = None\n",
      "C:\\Users\\anhernan\\AppData\\Local\\Temp\\ipykernel_15012\\4191111566.py:14: PerformanceWarning: DataFrame is highly fragmented.  This is usually the result of calling `frame.insert` many times, which has poor performance.  Consider joining all columns at once using pd.concat(axis=1) instead. To get a de-fragmented frame, use `newframe = frame.copy()`\n",
      "  df_moves[f'1b_{move_num}'] = None\n",
      "C:\\Users\\anhernan\\AppData\\Local\\Temp\\ipykernel_15012\\4191111566.py:15: PerformanceWarning: DataFrame is highly fragmented.  This is usually the result of calling `frame.insert` many times, which has poor performance.  Consider joining all columns at once using pd.concat(axis=1) instead. To get a de-fragmented frame, use `newframe = frame.copy()`\n",
      "  df_moves[f'1b_{move_num}_fen'] = None\n",
      "C:\\Users\\anhernan\\AppData\\Local\\Temp\\ipykernel_15012\\4191111566.py:12: PerformanceWarning: DataFrame is highly fragmented.  This is usually the result of calling `frame.insert` many times, which has poor performance.  Consider joining all columns at once using pd.concat(axis=1) instead. To get a de-fragmented frame, use `newframe = frame.copy()`\n",
      "  df_moves[f'0w_{move_num}'] = None\n",
      "C:\\Users\\anhernan\\AppData\\Local\\Temp\\ipykernel_15012\\4191111566.py:13: PerformanceWarning: DataFrame is highly fragmented.  This is usually the result of calling `frame.insert` many times, which has poor performance.  Consider joining all columns at once using pd.concat(axis=1) instead. To get a de-fragmented frame, use `newframe = frame.copy()`\n",
      "  df_moves[f'0w_{move_num}_fen'] = None\n",
      "C:\\Users\\anhernan\\AppData\\Local\\Temp\\ipykernel_15012\\4191111566.py:14: PerformanceWarning: DataFrame is highly fragmented.  This is usually the result of calling `frame.insert` many times, which has poor performance.  Consider joining all columns at once using pd.concat(axis=1) instead. To get a de-fragmented frame, use `newframe = frame.copy()`\n",
      "  df_moves[f'1b_{move_num}'] = None\n",
      "C:\\Users\\anhernan\\AppData\\Local\\Temp\\ipykernel_15012\\4191111566.py:15: PerformanceWarning: DataFrame is highly fragmented.  This is usually the result of calling `frame.insert` many times, which has poor performance.  Consider joining all columns at once using pd.concat(axis=1) instead. To get a de-fragmented frame, use `newframe = frame.copy()`\n",
      "  df_moves[f'1b_{move_num}_fen'] = None\n"
     ]
    },
    {
     "data": {
      "text/plain": [
       "Index(['game_id', 'moves', 'opening_code', 'opening_moves', 'opening_fullname',\n",
       "       'opening_shortname', 'opening_variation', 'moves_fen', '0w_1',\n",
       "       '0w_1_fen',\n",
       "       ...\n",
       "       '1b_26', '1b_26_fen', '0w_27', '0w_27_fen', '1b_27', '1b_27_fen',\n",
       "       '0w_28', '0w_28_fen', '1b_28', '1b_28_fen'],\n",
       "      dtype='object', length=120)"
      ]
     },
     "execution_count": 50,
     "metadata": {},
     "output_type": "execute_result"
    }
   ],
   "source": [
    "create_fen_columns(df_2)\n",
    "df_2.columns"
   ]
  },
  {
   "cell_type": "code",
   "execution_count": 51,
   "metadata": {},
   "outputs": [],
   "source": [
    "# Guardar el CSV con features como df_2.csv\n",
    "df_2.to_csv(\"../CHESS/data/df_2_just_moves_fen.csv\", index=False) # Data frame con features basadas en ventaja posicional del turno"
   ]
  }
 ],
 "metadata": {
  "kernelspec": {
   "display_name": "Python 3",
   "language": "python",
   "name": "python3"
  },
  "language_info": {
   "codemirror_mode": {
    "name": "ipython",
    "version": 3
   },
   "file_extension": ".py",
   "mimetype": "text/x-python",
   "name": "python",
   "nbconvert_exporter": "python",
   "pygments_lexer": "ipython3",
   "version": "3.11.2"
  }
 },
 "nbformat": 4,
 "nbformat_minor": 2
}
