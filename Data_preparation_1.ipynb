{
 "cells": [
  {
   "cell_type": "code",
   "execution_count": 5,
   "metadata": {},
   "outputs": [
    {
     "name": "stdout",
     "output_type": "stream",
     "text": [
      "<class 'pandas.core.frame.DataFrame'>\n",
      "RangeIndex: 20058 entries, 0 to 20057\n",
      "Data columns (total 24 columns):\n",
      " #   Column                Non-Null Count  Dtype \n",
      "---  ------                --------------  ----- \n",
      " 0   game_id               20058 non-null  int64 \n",
      " 1   rated                 20058 non-null  bool  \n",
      " 2   turns                 20058 non-null  int64 \n",
      " 3   winner                20058 non-null  object\n",
      " 4   time_increment        20058 non-null  object\n",
      " 5   white_rating          20058 non-null  int64 \n",
      " 6   black_rating          20058 non-null  int64 \n",
      " 7   moves                 20058 non-null  object\n",
      " 8   opening_code          20058 non-null  object\n",
      " 9   opening_moves         20058 non-null  int64 \n",
      " 10  opening_fullname      20058 non-null  object\n",
      " 11  opening_shortname     20058 non-null  object\n",
      " 12  opening_variation     20058 non-null  object\n",
      " 13  moves_fen             20058 non-null  object\n",
      " 14  ctrld_pawn            20058 non-null  int64 \n",
      " 15  ctrld_knight          20058 non-null  int64 \n",
      " 16  ctrld_bishop          20058 non-null  int64 \n",
      " 17  ctrld_rook            20058 non-null  int64 \n",
      " 18  ctrld_queen           20058 non-null  int64 \n",
      " 19  ctrld_king            20058 non-null  int64 \n",
      " 20  preassure_points      20058 non-null  int64 \n",
      " 21  controlled_diagonals  20058 non-null  int64 \n",
      " 22  controlled_lines      20058 non-null  int64 \n",
      " 23  current_turn          20058 non-null  bool  \n",
      "dtypes: bool(2), int64(14), object(8)\n",
      "memory usage: 3.4+ MB\n"
     ]
    }
   ],
   "source": [
    "import pandas as pd\n",
    "org_data_path = \"../CHESS/data/df_2.csv\"\n",
    "df_2 = pd.read_csv(org_data_path)\n",
    "df_2.info()"
   ]
  },
  {
   "cell_type": "code",
   "execution_count": 7,
   "metadata": {},
   "outputs": [],
   "source": [
    "from sklearn.preprocessing import LabelEncoder\n",
    "# Codificando todas las variables categóricas consideradas en valores numéricos\n",
    "le1 = LabelEncoder() #rated\n",
    "le2 = LabelEncoder() #winner\n",
    "le3 = LabelEncoder() #time_increment\n",
    "le4 = LabelEncoder() #opening_code\n",
    "le5 = LabelEncoder() #opening_fullname\n",
    "le6 = LabelEncoder() #opening_shortname\n",
    "le7 = LabelEncoder() #opening_variation\n",
    "le8 = LabelEncoder() #moves_fen\n",
    "le9 = LabelEncoder() #current_turn\n",
    "\n",
    "# Apply label encoding to each categorical column\n",
    "df_2['rated_cod'] = le1.fit_transform(df_2['rated']) # Ordinal\n",
    "df_2['winner_cod'] = le2.fit_transform(df_2['winner']) # No ordinal, pero solo dos clases\n",
    "df_2['current_turn_cod'] = le9.fit_transform(df_2['current_turn']) # Ordinal\n",
    "df_2['time_increment_cod'] = le3.fit_transform(df_2['time_increment']) # Ordinal\n",
    "df_2['opening_code_cod'] = le4.fit_transform(df_2['opening_code']) # No ordinal, muchas categorias\n",
    "df_2['opening_fullname_cod'] = le5.fit_transform(df_2['opening_fullname']) # No ordinal, muchas categorias\n",
    "df_2['opening_shortname_cod'] = le6.fit_transform(df_2['opening_shortname']) # No ordinal, muchas categorias\n",
    "df_2['opening_variation_cod'] = le7.fit_transform(df_2['opening_variation']) # No ordinal, muchas categorias\n",
    "df_2['moves_fen_cod'] = le8.fit_transform(df_2['moves_fen']) # No ordinal, muchas categorias\n"
   ]
  },
  {
   "cell_type": "code",
   "execution_count": 8,
   "metadata": {},
   "outputs": [],
   "source": [
    "df_2_cod = df_2.drop(labels=['rated','winner', 'current_turn','time_increment','opening_code','opening_fullname','opening_shortname','opening_variation','moves_fen'],axis=1)"
   ]
  },
  {
   "cell_type": "code",
   "execution_count": 9,
   "metadata": {},
   "outputs": [],
   "source": [
    "# Guardar el CSV con features como df_2.csv\n",
    "df_2_cod.to_csv(\"../CHESS/data/df_2_cod.csv\", index=False) # Data frame con features basadas en ventaja posicional del turno"
   ]
  }
 ],
 "metadata": {
  "kernelspec": {
   "display_name": "Python 3",
   "language": "python",
   "name": "python3"
  },
  "language_info": {
   "codemirror_mode": {
    "name": "ipython",
    "version": 3
   },
   "file_extension": ".py",
   "mimetype": "text/x-python",
   "name": "python",
   "nbconvert_exporter": "python",
   "pygments_lexer": "ipython3",
   "version": "3.11.2"
  }
 },
 "nbformat": 4,
 "nbformat_minor": 2
}
