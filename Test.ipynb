{
 "cells": [
  {
   "cell_type": "code",
   "execution_count": 27,
   "metadata": {},
   "outputs": [
    {
     "data": {
      "text/plain": [
       "{'a6', 'b6', 'c6', 'd6', 'e6', 'f6', 'g6', 'h6'}"
      ]
     },
     "execution_count": 27,
     "metadata": {},
     "output_type": "execute_result"
    }
   ],
   "source": [
    "# Definición de la cadena FEN proporcionada por el usuario\n",
    "fen = \"rnbqkbnr/pppppppp/8/8/4P3/8/PPPP1PPP/RNBQKBNR w KQkq - 0 1\"\n",
    "\n",
    "# Función para identificar las casillas que los peones (blancos y negros) pueden capturar\n",
    "def get_pawn_capture_squares(fen, turn:bool = True):\n",
    "    \"\"\"Obtiene las casillas controladas por peon (puede comer en siguiente turno) \n",
    "\n",
    "    Args:\n",
    "        fen (str): Cadena Fen \n",
    "        turn (bool, optional): True: Blancas. False: Negras\n",
    "\n",
    "    Returns:\n",
    "        set: Obtiene las casillas controladas por peon (puede comer en siguiente turno)\n",
    "    \"\"\"\n",
    "    # Dividir la cadena FEN para obtener la disposición de las piezas en el tablero\n",
    "    board_setup = fen.split()[0]\n",
    "\n",
    "    # Convertir la disposición del tablero a una matriz 8x8 para facilitar el acceso a cada casilla\n",
    "    rows = board_setup.split('/')\n",
    "    board = [list(row.replace('8', '........')\n",
    "                  .replace('7', '.......')\n",
    "                  .replace('6', '......')\n",
    "                  .replace('5', '.....')\n",
    "                  .replace('4', '....')\n",
    "                  .replace('3', '...')\n",
    "                  .replace('2', '..')\n",
    "                  .replace('1', '.')) for row in rows]\n",
    "    captures = {'white': set(), 'black': set()} \n",
    "    # Movimiento diagonal para captura\n",
    "    direction_white = -1\n",
    "    direction_black = 1\n",
    "    diagonals = [-1, 1] # Diagonales izquierda y derecha\n",
    "    for row in range(8):\n",
    "        for col in range(8):\n",
    "            if board[row][col] == 'P':  # Peón blanco\n",
    "                for dcol in diagonals:\n",
    "                    nrow, ncol = row + direction_white, col + dcol\n",
    "                    if 0 <= nrow < 8 and 0 <= ncol < 8:  # Verificar límites del tablero\n",
    "                        captures['white'].add(chr(97 + ncol) + str(8 - nrow))\n",
    "            elif board[row][col] == 'p':  # Peón negro\n",
    "                for dcol in diagonals:\n",
    "                    nrow, ncol = row + direction_black, col + dcol\n",
    "                    if 0 <= nrow < 8 and 0 <= ncol < 8:  # Verificar límites del tablero\n",
    "                        captures['black'].add(chr(97 + ncol) + str(8 - nrow))\n",
    "                        \n",
    "    return captures['white'] if turn else captures['black']\n",
    "\n",
    "# Calcular las casillas que pueden ser capturadas por los peones\n",
    "get_pawn_capture_squares(fen, False)"
   ]
  },
  {
   "cell_type": "code",
   "execution_count": 28,
   "metadata": {},
   "outputs": [
    {
     "data": {
      "text/plain": [
       "8"
      ]
     },
     "execution_count": 28,
     "metadata": {},
     "output_type": "execute_result"
    }
   ],
   "source": [
    "# Definición de la cadena FEN proporcionada por el usuario\n",
    "fen = \"rnbqkbnr/pppppppp/8/8/4P3/8/PPPP1PPP/RNBQKBNR w KQkq - 0 1\"\n",
    "\n",
    "# Función para identificar las casillas que los peones (blancos y negros) pueden capturar\n",
    "def count_pawn_capture_squares(fen, turn:bool = True):\n",
    "    \"\"\"Cuenta las casillas controladas por peon (puede comer en siguiente turno) \n",
    "\n",
    "    Args:\n",
    "        fen (str): Cadena Fen \n",
    "        turn (bool, optional): True: Blancas. False: Negras\n",
    "\n",
    "    Returns:\n",
    "        int: Cuenta las casillas controladas por peon (puede comer en siguiente turno)\n",
    "    \"\"\"              \n",
    "    return len(get_pawn_capture_squares(fen, turn))\n",
    "\n",
    "# Calcular las casillas que pueden ser capturadas por los peones\n",
    "count_pawn_capture_squares(fen, False)"
   ]
  },
  {
   "cell_type": "code",
   "execution_count": 31,
   "metadata": {},
   "outputs": [
    {
     "data": {
      "text/html": [
       "<div>\n",
       "<style scoped>\n",
       "    .dataframe tbody tr th:only-of-type {\n",
       "        vertical-align: middle;\n",
       "    }\n",
       "\n",
       "    .dataframe tbody tr th {\n",
       "        vertical-align: top;\n",
       "    }\n",
       "\n",
       "    .dataframe thead th {\n",
       "        text-align: right;\n",
       "    }\n",
       "</style>\n",
       "<table border=\"1\" class=\"dataframe\">\n",
       "  <thead>\n",
       "    <tr style=\"text-align: right;\">\n",
       "      <th></th>\n",
       "      <th>0</th>\n",
       "    </tr>\n",
       "  </thead>\n",
       "  <tbody>\n",
       "    <tr>\n",
       "      <th>turns</th>\n",
       "      <td>n</td>\n",
       "    </tr>\n",
       "    <tr>\n",
       "      <th>ctrld_pawn</th>\n",
       "      <td>{'d3', 'f3', 'a3', 'd5', 'e3', 'f5', 'c3', 'h3...</td>\n",
       "    </tr>\n",
       "    <tr>\n",
       "      <th>ctrld_knight</th>\n",
       "      <td>['Nh3', 'Nf3', 'Ne2', 'Nc3', 'Na3']</td>\n",
       "    </tr>\n",
       "    <tr>\n",
       "      <th>ctrld_bishop</th>\n",
       "      <td>['Ba6', 'Bb5', 'Bc4', 'Bd3', 'Be2']</td>\n",
       "    </tr>\n",
       "    <tr>\n",
       "      <th>ctrld_rook</th>\n",
       "      <td>[]</td>\n",
       "    </tr>\n",
       "    <tr>\n",
       "      <th>ctrld_queen</th>\n",
       "      <td>['Qh5', 'Qg4', 'Qf3', 'Qe2']</td>\n",
       "    </tr>\n",
       "    <tr>\n",
       "      <th>ctrld_king</th>\n",
       "      <td>['Ke2']</td>\n",
       "    </tr>\n",
       "    <tr>\n",
       "      <th>preassure_points</th>\n",
       "      <td>['e2', 'a3', 'b3', 'c3', 'd3', 'e3', 'f3', 'g3...</td>\n",
       "    </tr>\n",
       "    <tr>\n",
       "      <th>controlled_diagonals</th>\n",
       "      <td>({'c1': 0, 'f1': 1, 'd1': 1}, 'Total: 2')</td>\n",
       "    </tr>\n",
       "    <tr>\n",
       "      <th>controlled_lines</th>\n",
       "      <td>({'a1': 0, 'h1': 0, 'd1': 0}, 'Total: 0')</td>\n",
       "    </tr>\n",
       "  </tbody>\n",
       "</table>\n",
       "</div>"
      ],
      "text/plain": [
       "                                                                      0\n",
       "turns                                                                 n\n",
       "ctrld_pawn            {'d3', 'f3', 'a3', 'd5', 'e3', 'f5', 'c3', 'h3...\n",
       "ctrld_knight                        ['Nh3', 'Nf3', 'Ne2', 'Nc3', 'Na3']\n",
       "ctrld_bishop                        ['Ba6', 'Bb5', 'Bc4', 'Bd3', 'Be2']\n",
       "ctrld_rook                                                           []\n",
       "ctrld_queen                                ['Qh5', 'Qg4', 'Qf3', 'Qe2']\n",
       "ctrld_king                                                      ['Ke2']\n",
       "preassure_points      ['e2', 'a3', 'b3', 'c3', 'd3', 'e3', 'f3', 'g3...\n",
       "controlled_diagonals          ({'c1': 0, 'f1': 1, 'd1': 1}, 'Total: 2')\n",
       "controlled_lines              ({'a1': 0, 'h1': 0, 'd1': 0}, 'Total: 0')"
      ]
     },
     "execution_count": 31,
     "metadata": {},
     "output_type": "execute_result"
    }
   ],
   "source": [
    "from extract_features import get_all_features, count_all_features\n",
    "fen_example = 'rnbqkbnr/pppp1ppp/8/4p3/4P3/8/PPPP1PPP/RNBQKBNR w KQkq - 0 2'\n",
    "\n",
    "df = get_all_features(fen_example, 'n', True).T\n",
    "df"
   ]
  }
 ],
 "metadata": {
  "kernelspec": {
   "display_name": "Python 3",
   "language": "python",
   "name": "python3"
  },
  "language_info": {
   "codemirror_mode": {
    "name": "ipython",
    "version": 3
   },
   "file_extension": ".py",
   "mimetype": "text/x-python",
   "name": "python",
   "nbconvert_exporter": "python",
   "pygments_lexer": "ipython3",
   "version": "3.11.2"
  }
 },
 "nbformat": 4,
 "nbformat_minor": 2
}
