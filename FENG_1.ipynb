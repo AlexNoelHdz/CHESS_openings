{
 "cells": [
  {
   "cell_type": "code",
   "execution_count": 2,
   "metadata": {},
   "outputs": [],
   "source": [
    "import pandas as pd"
   ]
  },
  {
   "cell_type": "code",
   "execution_count": 3,
   "metadata": {},
   "outputs": [
    {
     "name": "stdout",
     "output_type": "stream",
     "text": [
      "<class 'pandas.core.frame.DataFrame'>\n",
      "RangeIndex: 20058 entries, 0 to 20057\n",
      "Data columns (total 17 columns):\n",
      " #   Column             Non-Null Count  Dtype \n",
      "---  ------             --------------  ----- \n",
      " 0   game_id            20058 non-null  int64 \n",
      " 1   rated              20058 non-null  bool  \n",
      " 2   turns              20058 non-null  int64 \n",
      " 3   victory_status     20058 non-null  object\n",
      " 4   winner             20058 non-null  object\n",
      " 5   time_increment     20058 non-null  object\n",
      " 6   white_id           20058 non-null  object\n",
      " 7   white_rating       20058 non-null  int64 \n",
      " 8   black_id           20058 non-null  object\n",
      " 9   black_rating       20058 non-null  int64 \n",
      " 10  moves              20058 non-null  object\n",
      " 11  opening_code       20058 non-null  object\n",
      " 12  opening_moves      20058 non-null  int64 \n",
      " 13  opening_fullname   20058 non-null  object\n",
      " 14  opening_shortname  20058 non-null  object\n",
      " 15  opening_response   1207 non-null   object\n",
      " 16  opening_variation  14398 non-null  object\n",
      "dtypes: bool(1), int64(5), object(11)\n",
      "memory usage: 2.5+ MB\n"
     ]
    }
   ],
   "source": [
    "org_data_path = \"../CHESS/data/chess_games.csv\"\n",
    "df_org = pd.read_csv(org_data_path)\n",
    "df_org.info()"
   ]
  },
  {
   "cell_type": "code",
   "execution_count": 4,
   "metadata": {},
   "outputs": [
    {
     "data": {
      "text/html": [
       "<div>\n",
       "<style scoped>\n",
       "    .dataframe tbody tr th:only-of-type {\n",
       "        vertical-align: middle;\n",
       "    }\n",
       "\n",
       "    .dataframe tbody tr th {\n",
       "        vertical-align: top;\n",
       "    }\n",
       "\n",
       "    .dataframe thead th {\n",
       "        text-align: right;\n",
       "    }\n",
       "</style>\n",
       "<table border=\"1\" class=\"dataframe\">\n",
       "  <thead>\n",
       "    <tr style=\"text-align: right;\">\n",
       "      <th></th>\n",
       "      <th>game_id</th>\n",
       "      <th>turns</th>\n",
       "      <th>white_rating</th>\n",
       "      <th>black_rating</th>\n",
       "      <th>opening_moves</th>\n",
       "    </tr>\n",
       "  </thead>\n",
       "  <tbody>\n",
       "    <tr>\n",
       "      <th>count</th>\n",
       "      <td>20058.000000</td>\n",
       "      <td>20058.000000</td>\n",
       "      <td>20058.000000</td>\n",
       "      <td>20058.000000</td>\n",
       "      <td>20058.000000</td>\n",
       "    </tr>\n",
       "    <tr>\n",
       "      <th>mean</th>\n",
       "      <td>10029.500000</td>\n",
       "      <td>60.465999</td>\n",
       "      <td>1596.631868</td>\n",
       "      <td>1588.831987</td>\n",
       "      <td>4.816981</td>\n",
       "    </tr>\n",
       "    <tr>\n",
       "      <th>std</th>\n",
       "      <td>5790.390185</td>\n",
       "      <td>33.570585</td>\n",
       "      <td>291.253376</td>\n",
       "      <td>291.036126</td>\n",
       "      <td>2.797152</td>\n",
       "    </tr>\n",
       "    <tr>\n",
       "      <th>min</th>\n",
       "      <td>1.000000</td>\n",
       "      <td>1.000000</td>\n",
       "      <td>784.000000</td>\n",
       "      <td>789.000000</td>\n",
       "      <td>1.000000</td>\n",
       "    </tr>\n",
       "    <tr>\n",
       "      <th>25%</th>\n",
       "      <td>5015.250000</td>\n",
       "      <td>37.000000</td>\n",
       "      <td>1398.000000</td>\n",
       "      <td>1391.000000</td>\n",
       "      <td>3.000000</td>\n",
       "    </tr>\n",
       "    <tr>\n",
       "      <th>50%</th>\n",
       "      <td>10029.500000</td>\n",
       "      <td>55.000000</td>\n",
       "      <td>1567.000000</td>\n",
       "      <td>1562.000000</td>\n",
       "      <td>4.000000</td>\n",
       "    </tr>\n",
       "    <tr>\n",
       "      <th>75%</th>\n",
       "      <td>15043.750000</td>\n",
       "      <td>79.000000</td>\n",
       "      <td>1793.000000</td>\n",
       "      <td>1784.000000</td>\n",
       "      <td>6.000000</td>\n",
       "    </tr>\n",
       "    <tr>\n",
       "      <th>max</th>\n",
       "      <td>20058.000000</td>\n",
       "      <td>349.000000</td>\n",
       "      <td>2700.000000</td>\n",
       "      <td>2723.000000</td>\n",
       "      <td>28.000000</td>\n",
       "    </tr>\n",
       "  </tbody>\n",
       "</table>\n",
       "</div>"
      ],
      "text/plain": [
       "            game_id         turns  white_rating  black_rating  opening_moves\n",
       "count  20058.000000  20058.000000  20058.000000  20058.000000   20058.000000\n",
       "mean   10029.500000     60.465999   1596.631868   1588.831987       4.816981\n",
       "std     5790.390185     33.570585    291.253376    291.036126       2.797152\n",
       "min        1.000000      1.000000    784.000000    789.000000       1.000000\n",
       "25%     5015.250000     37.000000   1398.000000   1391.000000       3.000000\n",
       "50%    10029.500000     55.000000   1567.000000   1562.000000       4.000000\n",
       "75%    15043.750000     79.000000   1793.000000   1784.000000       6.000000\n",
       "max    20058.000000    349.000000   2700.000000   2723.000000      28.000000"
      ]
     },
     "execution_count": 4,
     "metadata": {},
     "output_type": "execute_result"
    }
   ],
   "source": [
    "df_org.describe()"
   ]
  },
  {
   "cell_type": "code",
   "execution_count": 5,
   "metadata": {},
   "outputs": [
    {
     "name": "stdout",
     "output_type": "stream",
     "text": [
      "<class 'pandas.core.frame.DataFrame'>\n",
      "RangeIndex: 20058 entries, 0 to 20057\n",
      "Data columns (total 13 columns):\n",
      " #   Column             Non-Null Count  Dtype \n",
      "---  ------             --------------  ----- \n",
      " 0   game_id            20058 non-null  int64 \n",
      " 1   rated              20058 non-null  bool  \n",
      " 2   turns              20058 non-null  int64 \n",
      " 3   winner             20058 non-null  object\n",
      " 4   time_increment     20058 non-null  object\n",
      " 5   white_rating       20058 non-null  int64 \n",
      " 6   black_rating       20058 non-null  int64 \n",
      " 7   moves              20058 non-null  object\n",
      " 8   opening_code       20058 non-null  object\n",
      " 9   opening_moves      20058 non-null  int64 \n",
      " 10  opening_fullname   20058 non-null  object\n",
      " 11  opening_shortname  20058 non-null  object\n",
      " 12  opening_variation  14398 non-null  object\n",
      "dtypes: bool(1), int64(5), object(7)\n",
      "memory usage: 1.9+ MB\n"
     ]
    }
   ],
   "source": [
    "# Eliminar columnas\n",
    "# white_id / black_id: no es necesario identificar a los jugadores para clasificar. \n",
    "\n",
    "# Opening response: Esta columna tiene muchos espacios en blancos\n",
    "# para clasificar depende de interpretación.\n",
    "\n",
    "# Victory status: El estatus de la victoría no estará disponible al evaluar posiciones no finalizadas\n",
    "\n",
    "df_1 = pd.DataFrame()\n",
    "df_1 = df_org.drop(labels=['white_id','black_id','opening_response', 'victory_status'],axis=1)\n",
    "df_1.info()"
   ]
  },
  {
   "cell_type": "code",
   "execution_count": 6,
   "metadata": {},
   "outputs": [
    {
     "name": "stdout",
     "output_type": "stream",
     "text": [
      "<class 'pandas.core.frame.DataFrame'>\n",
      "RangeIndex: 20058 entries, 0 to 20057\n",
      "Data columns (total 13 columns):\n",
      " #   Column             Non-Null Count  Dtype \n",
      "---  ------             --------------  ----- \n",
      " 0   game_id            20058 non-null  int64 \n",
      " 1   rated              20058 non-null  bool  \n",
      " 2   turns              20058 non-null  int64 \n",
      " 3   winner             20058 non-null  object\n",
      " 4   time_increment     20058 non-null  object\n",
      " 5   white_rating       20058 non-null  int64 \n",
      " 6   black_rating       20058 non-null  int64 \n",
      " 7   moves              20058 non-null  object\n",
      " 8   opening_code       20058 non-null  object\n",
      " 9   opening_moves      20058 non-null  int64 \n",
      " 10  opening_fullname   20058 non-null  object\n",
      " 11  opening_shortname  20058 non-null  object\n",
      " 12  opening_variation  20058 non-null  object\n",
      "dtypes: bool(1), int64(5), object(7)\n",
      "memory usage: 1.9+ MB\n"
     ]
    }
   ],
   "source": [
    "#rellenando la columna Opening_variation los blanks con \"traditional opening\"\n",
    "df_1['opening_variation'] = df_org['opening_variation'].fillna('traditional opening')\n",
    "df_1.info()"
   ]
  },
  {
   "cell_type": "code",
   "execution_count": 7,
   "metadata": {},
   "outputs": [],
   "source": [
    "df_1.to_csv(\"../CHESS/data/df_1.csv\", index=False) # Clean Data"
   ]
  }
 ],
 "metadata": {
  "kernelspec": {
   "display_name": "Python 3",
   "language": "python",
   "name": "python3"
  },
  "language_info": {
   "codemirror_mode": {
    "name": "ipython",
    "version": 3
   },
   "file_extension": ".py",
   "mimetype": "text/x-python",
   "name": "python",
   "nbconvert_exporter": "python",
   "pygments_lexer": "ipython3",
   "version": "3.11.2"
  }
 },
 "nbformat": 4,
 "nbformat_minor": 2
}
