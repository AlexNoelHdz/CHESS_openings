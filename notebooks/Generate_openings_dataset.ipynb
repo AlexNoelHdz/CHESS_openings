{
 "cells": [
  {
   "cell_type": "code",
   "execution_count": 24,
   "metadata": {},
   "outputs": [
    {
     "name": "stdout",
     "output_type": "stream",
     "text": [
      "<class 'pandas.core.frame.DataFrame'>\n",
      "RangeIndex: 20058 entries, 0 to 20057\n",
      "Data columns (total 7 columns):\n",
      " #   Column             Non-Null Count  Dtype \n",
      "---  ------             --------------  ----- \n",
      " 0   game_id            20058 non-null  int64 \n",
      " 1   moves              20058 non-null  object\n",
      " 2   opening_code       20058 non-null  object\n",
      " 3   opening_moves      20058 non-null  int64 \n",
      " 4   opening_fullname   20058 non-null  object\n",
      " 5   opening_shortname  20058 non-null  object\n",
      " 6   opening_variation  20058 non-null  object\n",
      "dtypes: int64(2), object(5)\n",
      "memory usage: 1.1+ MB\n"
     ]
    }
   ],
   "source": [
    "import pandas as pd\n",
    "org_data_path = \"../CHESS/data/df_2_just_moves.csv\"\n",
    "df_2 = pd.read_csv(org_data_path)\n",
    "df_2 = df_2.drop(columns=['moves_fen'])\n",
    "df_2.info()"
   ]
  },
  {
   "cell_type": "code",
   "execution_count": 25,
   "metadata": {},
   "outputs": [],
   "source": [
    "from extract_features import get_fen_from_moves\n",
    "\n",
    "def create_fen_columns(df_moves):\n",
    "    '''\n",
    "    Se añaden columnas para cada movimiento de apertura (de 1 a 28 máximo) en formato fen al df_moves proporcionado\n",
    "    '''\n",
    "    max_opening_moves = 28//2  # Número máximo de turnos de apertura (1 turno = 2 movimientos)\n",
    "\n",
    "    # Crear las columnas para cada movimiento de apertura\n",
    "    for turn_num in range(1, max_opening_moves + 1):\n",
    "        # Rellenar con None donde no hay movimientos\n",
    "        df_moves[f'0w_{turn_num}'] = None\n",
    "        df_moves[f'0w_{turn_num}_fen'] = None\n",
    "        df_moves[f'1b_{turn_num}'] = None\n",
    "        df_moves[f'1b_{turn_num}_fen'] = None\n",
    "\n",
    "    for index, row in df_moves.iterrows():\n",
    "        moves = row['moves'].split()\n",
    "        opening_moves = int(row['opening_moves'])\n",
    "\n",
    "        if opening_moves % 2 == 0:\n",
    "            opening_turns = opening_moves//2\n",
    "        else:\n",
    "            opening_turns = (opening_moves//2) + 1\n",
    "        \n",
    "        for turn_num in range(1, opening_turns + 1):\n",
    "            san_white = moves[:turn_num*2-1]\n",
    "            san_black = moves[:turn_num*2]\n",
    "            fen_white = get_fen_from_moves(' '.join(san_white))\n",
    "            fen_black = get_fen_from_moves(' '.join(san_black))\n",
    "            df_moves.at[index, f'0w_{turn_num}'] = san_white[-1]\n",
    "            df_moves.at[index, f'0w_{turn_num}_fen'] = fen_white\n",
    "\n",
    "            # No rellenar el ultimo movimiento de negras cuando es el ultimo turno pero movimientos son impares\n",
    "            if opening_moves % 2 != 0 and turn_num == opening_turns:\n",
    "                break\n",
    "\n",
    "            df_moves.at[index, f'1b_{turn_num}'] = san_black[-1]\n",
    "            df_moves.at[index, f'1b_{turn_num}_fen'] = fen_black"
   ]
  },
  {
   "cell_type": "code",
   "execution_count": 27,
   "metadata": {},
   "outputs": [
    {
     "data": {
      "text/plain": [
       "Index(['opening_code', 'opening_moves', 'opening_fullname',\n",
       "       'opening_shortname', 'opening_variation', '0w_1', '0w_1_fen', '1b_1',\n",
       "       '1b_1_fen', '0w_2', '0w_2_fen', '1b_2', '1b_2_fen', '0w_3', '0w_3_fen',\n",
       "       '1b_3', '1b_3_fen', '0w_4', '0w_4_fen', '1b_4', '1b_4_fen', '0w_5',\n",
       "       '0w_5_fen', '1b_5', '1b_5_fen', '0w_6', '0w_6_fen', '1b_6', '1b_6_fen',\n",
       "       '0w_7', '0w_7_fen', '1b_7', '1b_7_fen', '0w_8', '0w_8_fen', '1b_8',\n",
       "       '1b_8_fen', '0w_9', '0w_9_fen', '1b_9', '1b_9_fen', '0w_10',\n",
       "       '0w_10_fen', '1b_10', '1b_10_fen', '0w_11', '0w_11_fen', '1b_11',\n",
       "       '1b_11_fen', '0w_12', '0w_12_fen', '1b_12', '1b_12_fen', '0w_13',\n",
       "       '0w_13_fen', '1b_13', '1b_13_fen', '0w_14', '0w_14_fen', '1b_14',\n",
       "       '1b_14_fen'],\n",
       "      dtype='object')"
      ]
     },
     "execution_count": 27,
     "metadata": {},
     "output_type": "execute_result"
    }
   ],
   "source": [
    "create_fen_columns(df_2)\n",
    "df_2 = df_2.drop(columns=['moves', 'game_id'])\n",
    "df_2.columns"
   ]
  },
  {
   "cell_type": "code",
   "execution_count": 28,
   "metadata": {},
   "outputs": [],
   "source": [
    "# Guardar el CSV con features como df_2.csv\n",
    "df_2.to_csv(\"../CHESS/data/df_2_just_moves_fen.csv\", index=False) # Data frame con features basadas en ventaja posicional del turno"
   ]
  }
 ],
 "metadata": {
  "kernelspec": {
   "display_name": "Python 3",
   "language": "python",
   "name": "python3"
  },
  "language_info": {
   "codemirror_mode": {
    "name": "ipython",
    "version": 3
   },
   "file_extension": ".py",
   "mimetype": "text/x-python",
   "name": "python",
   "nbconvert_exporter": "python",
   "pygments_lexer": "ipython3",
   "version": "3.11.2"
  }
 },
 "nbformat": 4,
 "nbformat_minor": 2
}
